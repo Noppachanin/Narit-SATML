{
 "cells": [
  {
   "cell_type": "code",
   "execution_count": null,
   "id": "material-center",
   "metadata": {},
   "outputs": [],
   "source": [
    "# Add the directory to sys.path\n",
    "import sys\n",
    "sys.path.append('.')\n",
    "\n",
    "# Now you can import the module\n",
    "from utils.tle_processing import *\n",
    "\n"
   ]
  },
  {
   "cell_type": "code",
   "execution_count": null,
   "id": "informal-faith",
   "metadata": {},
   "outputs": [],
   "source": [
    "from utils.tle_processing import spactrack_retrieval_to_df,spactrack_retrieval\n",
    "from datetime import datetime,timedelta"
   ]
  },
  {
   "cell_type": "markdown",
   "id": "referenced-shareware",
   "metadata": {},
   "source": [
    "# Example satellite dicts"
   ]
  },
  {
   "cell_type": "code",
   "execution_count": null,
   "id": "improving-moore",
   "metadata": {},
   "outputs": [],
   "source": [
    "# Define input\n",
    "LEO_names = [\n",
    "    {'sat_name': 'International Space Station (ISS)', 'norad_id': 25544, 'sat_type': 'LEO'},\n",
    "    {'sat_name': 'STARLINK-4714', 'norad_id': 44714, 'sat_type': 'LEO'},\n",
    "    {'sat_name': 'STARLINK-44716', 'norad_id': 44716, 'sat_type': 'LEO'},\n",
    "    {'sat_name': 'Hubble Space Telescope', 'norad_id': 20580, 'sat_type': 'LEO'},\n",
    "    {'sat_name': 'Terra', 'norad_id': 25994, 'sat_type': 'LEO'},\n",
    "    {'sat_name': 'Aqua', 'norad_id': 27424, 'sat_type': 'LEO'},\n",
    "    {'sat_name': 'Sentinel-1A', 'norad_id': 39634, 'sat_type': 'LEO'},\n",
    "    {'sat_name': 'ELSA-D', 'norad_id': 47944, 'sat_type': 'LEO'},\n",
    "    {'sat_name': 'Tianzhou-9', 'norad_id': 64786, 'sat_type': 'LEO'},\n",
    "    {'sat_name': 'GOSAT-2', 'norad_id': 43764, 'sat_type': 'LEO'}\n",
    "]\n",
    "\n",
    "MEO_names = [\n",
    "    {'sat_name': 'GPS IIR-20 (M)', 'norad_id': 32360, 'sat_type': 'MEO'},\n",
    "    {'sat_name': 'GLONASS-K 1', 'norad_id': 37372, 'sat_type': 'MEO'},\n",
    "    {'sat_name': 'GALILEO-PFM (IOV-1)', 'norad_id': 37846, 'sat_type': 'MEO'},\n",
    "    {'sat_name': 'BeiDou-3 G1', 'norad_id': 45543, 'sat_type': 'MEO'},\n",
    "    {'sat_name': 'O3B FM1', 'norad_id': 39188, 'sat_type': 'MEO'},\n",
    "    {'sat_name': 'O3B FM2', 'norad_id': 39190, 'sat_type': 'MEO'},\n",
    "    {'sat_name': 'O3B FM3', 'norad_id': 40082, 'sat_type': 'MEO'},\n",
    "    {'sat_name': 'O3B FM4', 'norad_id': 39189, 'sat_type': 'MEO'},\n",
    "    {'sat_name': 'O3B FM5', 'norad_id': 39188, 'sat_type': 'MEO'},\n",
    "    {'sat_name': 'QZSS-1 (Michibiki)', 'norad_id': 36878, 'sat_type': 'MEO'}\n",
    "]\n",
    "\n",
    "GEO_names = [\n",
    "    {'sat_name': 'GOES 16', 'norad_id': 41866, 'sat_type': 'GEO'},\n",
    "    {'sat_name': 'GOES 17', 'norad_id': 43234, 'sat_type': 'GEO'},\n",
    "    {'sat_name': 'NSS-9', 'norad_id': 34195, 'sat_type': 'GEO'},\n",
    "    {'sat_name': 'AMC-18', 'norad_id': 29699, 'sat_type': 'GEO'},\n",
    "    {'sat_name': 'SKYNET 4B', 'norad_id': 19917, 'sat_type': 'GEO'},\n",
    "    {'sat_name': 'ANIK A2', 'norad_id': 6437, 'sat_type': 'GEO'},\n",
    "    {'sat_name': 'YAMAL 300K', 'norad_id': 38997, 'sat_type': 'GEO'},\n",
    "    {'sat_name': 'GSAT-16', 'norad_id': 40356, 'sat_type': 'GEO'},\n",
    "    {'sat_name': 'COMSATBw-1', 'norad_id': 36504, 'sat_type': 'GEO'},\n",
    "    {'sat_name': 'GALILEO FOC-2', 'norad_id': 40129, 'sat_type': 'GEO'}\n",
    "]\n",
    "\n",
    "SSO_names = [\n",
    "    {'sat_name': 'TerraSAR-X', 'norad_id': 31102, 'sat_type': 'SSO'},\n",
    "    {'sat_name': 'GRACE-FO 1', 'norad_id': 43493, 'sat_type': 'SSO'},\n",
    "    {'sat_name': 'Sentinel-2A', 'norad_id': 40697, 'sat_type': 'SSO'},\n",
    "    {'sat_name': 'Sentinel-3A', 'norad_id': 41345, 'sat_type': 'SSO'},\n",
    "    {'sat_name': 'Landsat 8', 'norad_id': 39084, 'sat_type': 'SSO'},\n",
    "    {'sat_name': 'Landsat 9', 'norad_id': 49451, 'sat_type': 'SSO'},\n",
    "    {'sat_name': 'MetOp-A', 'norad_id': 29499, 'sat_type': 'SSO'},\n",
    "    {'sat_name': 'MetOp-B', 'norad_id': 38771, 'sat_type': 'SSO'},\n",
    "    {'sat_name': 'Aalto-1', 'norad_id': 42775, 'sat_type': 'SSO'},\n",
    "    {'sat_name': 'CALIPSO', 'norad_id': 29100, 'sat_type': 'SSO'}\n",
    "]"
   ]
  },
  {
   "cell_type": "markdown",
   "id": "searching-conviction",
   "metadata": {},
   "source": [
    "# Specify an input\n",
    "For this example, we select **Hubble Space Telescope**"
   ]
  },
  {
   "cell_type": "code",
   "execution_count": null,
   "id": "differential-disabled",
   "metadata": {},
   "outputs": [],
   "source": [
    "# Test on LEO\n",
    "\n",
    "sat_name = 'Hubble Space Telescope'\n",
    "norad_id = 20580\n",
    "sat_type = 'LEO'\n",
    "\n",
    "sat_dict = {'sat_name': sat_name , 'norad_id': norad_id, 'sat_type': sat_type}"
   ]
  },
  {
   "cell_type": "markdown",
   "id": "treated-timeline",
   "metadata": {},
   "source": [
    "## Specify date and time for data retrieval,and fill spacetrack account "
   ]
  },
  {
   "cell_type": "code",
   "execution_count": null,
   "id": "christian-moldova",
   "metadata": {},
   "outputs": [],
   "source": [
    "start_date = datetime(2024, 1, 1)\n",
    "end_date = datetime(2025, 1, 1)\n",
    "tle_out = spactrack_retrieval(sat_dict, start_date, end_date, email='', passwrd='')"
   ]
  },
  {
   "cell_type": "markdown",
   "id": "silver-warrant",
   "metadata": {},
   "source": [
    "## View your output"
   ]
  },
  {
   "cell_type": "code",
   "execution_count": null,
   "id": "stone-piano",
   "metadata": {},
   "outputs": [],
   "source": [
    "tle_out_df = spactrack_retrieval_to_df(sat_dict, start_date, end_date, email='', passwrd='')\n",
    "tle_out_df.head()"
   ]
  },
  {
   "cell_type": "markdown",
   "id": "virtual-parcel",
   "metadata": {},
   "source": [
    "## Convert epoch to datetime and resample data"
   ]
  },
  {
   "cell_type": "code",
   "execution_count": null,
   "id": "taken-tolerance",
   "metadata": {},
   "outputs": [],
   "source": [
    "from utils.tle_processing import epoch_to_datatime\n",
    "epoch_to_datatime(tle_out_df)"
   ]
  },
  {
   "cell_type": "code",
   "execution_count": null,
   "id": "rotary-dictionary",
   "metadata": {},
   "outputs": [],
   "source": [
    "from utils.tle_processing import resampling_tle_df\n",
    "\n",
    "# Create first difference for non-stationary features\n",
    "tle_out_df['diff_revs_number'] =  tle_out_df['Revolution Number at Epoch'].diff()\n",
    "\n",
    "resample_tle_df = resampling_tle_df(tle_out_df)\n",
    "resample_tle_df.head()"
   ]
  },
  {
   "cell_type": "markdown",
   "id": "helpful-tuning",
   "metadata": {},
   "source": [
    "# Model Inference"
   ]
  },
  {
   "cell_type": "code",
   "execution_count": null,
   "id": "focal-hundred",
   "metadata": {},
   "outputs": [],
   "source": [
    "from utils.tle_estimation import *\n",
    "import joblib"
   ]
  },
  {
   "cell_type": "code",
   "execution_count": null,
   "id": "moral-blade",
   "metadata": {},
   "outputs": [],
   "source": [
    "cols_for_training = ['First Derivative Mean Motion', \n",
    "       'Mean Motion (revolutions per day)', \n",
    "       'Eccentricity',  'diff_revs_number', 'Inclination (degrees)',\n",
    "       'Right Ascension of the Ascending Node (degrees)',\n",
    "       'Argument of Perigee (degrees)', 'Mean Anomaly (degrees)']\n",
    "\n",
    "data = resample_tle_df[cols_for_training].copy()\n",
    "print(data.shape)\n",
    "data.head()"
   ]
  },
  {
   "cell_type": "code",
   "execution_count": null,
   "id": "beautiful-adapter",
   "metadata": {},
   "outputs": [],
   "source": [
    "X_scaler, X_scaled, y_scaler, y_scaled = data_preparation(data, look_back = 2, forecast_horizon = 1 )\n",
    "X_scaled.shape, y_scaled.shape"
   ]
  },
  {
   "cell_type": "code",
   "execution_count": null,
   "id": "natural-encounter",
   "metadata": {},
   "outputs": [],
   "source": [
    "# Add model path here\n",
    "model_filename = 'pretrained_models/best_multi_output_model.joblib'"
   ]
  },
  {
   "cell_type": "code",
   "execution_count": null,
   "id": "complete-apparatus",
   "metadata": {},
   "outputs": [],
   "source": [
    "model = joblib.load(model_filename)\n",
    "y_pred_scaled = model.predict(X_scaled)\n",
    "\n",
    "y_pred_scaled.shape"
   ]
  },
  {
   "cell_type": "code",
   "execution_count": null,
   "id": "committed-disabled",
   "metadata": {},
   "outputs": [],
   "source": [
    "y_test_reshaped, y_pred_reshaped = pred_by_model(model_filename, X_scaled, y_scaler, y_scaled, forecast_horizon = 1)"
   ]
  },
  {
   "cell_type": "code",
   "execution_count": null,
   "id": "acceptable-beach",
   "metadata": {},
   "outputs": [],
   "source": [
    "y_test_reshaped.shape, y_pred_reshaped.shape"
   ]
  },
  {
   "cell_type": "markdown",
   "id": "gross-pipeline",
   "metadata": {},
   "source": [
    "# Evaluation"
   ]
  },
  {
   "cell_type": "code",
   "execution_count": null,
   "id": "fifteen-boutique",
   "metadata": {},
   "outputs": [],
   "source": [
    "# Calculate MAE and MAPE for each series over the entire test set\n",
    "mae_per_series = []\n",
    "mape_per_series = []\n",
    "for i in range(y_test_reshaped.shape[2]):\n",
    "    actual_series = y_test_reshaped[:, :, i]\n",
    "    pred_series = y_pred_reshaped[:, :, i]\n",
    "    \n",
    "    # Calculate MAE\n",
    "    mae = mean_absolute_error(actual_series, pred_series)\n",
    "    mae_per_series.append(mae)\n",
    "    \n",
    "    # Calculate a simple version of MAPE (Mean Absolute Percentage Error)\n",
    "    # We use a small epsilon to avoid division by zero.\n",
    "    # Note: MAPE is sensitive to zero or near-zero values.\n",
    "    non_zero_actuals = actual_series[np.abs(actual_series) > 1e-6]\n",
    "    if len(non_zero_actuals) > 0:\n",
    "        percentage_error = np.mean(np.abs((pred_series[np.abs(actual_series) > 1e-6] - non_zero_actuals) / non_zero_actuals)) * 100\n",
    "    else:\n",
    "        percentage_error = np.nan\n",
    "    mape_per_series.append(percentage_error)\n",
    "\n",
    "print(\"\\nMean Absolute Error (MAE) and Mean Absolute Percentage Error (MAPE) for each time series:\")\n",
    "for i in range(len(mae_per_series)):\n",
    "#     print(f\"  - Series {i+1} ({cols_for_training[i]}): MAE = {mae_per_series[i]:.4f}, MAPE = {mape_per_series[i]:.2f}%\")\n",
    "    print(f\"  - Series {i+1} ({cols_for_training[i]}): MAE = {mae_per_series[i]:.4f}\")\n"
   ]
  },
  {
   "cell_type": "code",
   "execution_count": null,
   "id": "mechanical-services",
   "metadata": {},
   "outputs": [],
   "source": [
    "from sklearn.metrics import mean_squared_error\n",
    "row_series = []\n",
    "# Calculate MAE and MAPE for each series over the entire test set\n",
    "mae_per_series = []\n",
    "mape_per_series = []\n",
    "rmse_per_series = []\n",
    "for i in range(y_test_reshaped.shape[2]):\n",
    "    actual_series = y_test_reshaped[:, :, i]\n",
    "    pred_series = y_pred_reshaped[:, :, i]\n",
    "    \n",
    "    # Calculate MAE\n",
    "    mae = mean_absolute_error(actual_series, pred_series)\n",
    "    mse = mean_squared_error(actual_series, pred_series)\n",
    "    rmse = np.sqrt(mse)\n",
    "    rmse_per_series.append(rmse)\n",
    "    mae_per_series.append(mae)\n",
    "    \n",
    "    # Calculate a simple version of MAPE (Mean Absolute Percentage Error)\n",
    "    # We use a small epsilon to avoid division by zero.\n",
    "    # Note: MAPE is sensitive to zero or near-zero values.\n",
    "    non_zero_actuals = actual_series[np.abs(actual_series) > 1e-6]\n",
    "    if len(non_zero_actuals) > 0:\n",
    "        percentage_error = np.mean(np.abs((pred_series[np.abs(actual_series) > 1e-6] - non_zero_actuals) / non_zero_actuals)) * 100\n",
    "    else:\n",
    "        percentage_error = np.nan\n",
    "    mape_per_series.append(percentage_error)\n",
    "\n",
    "print(\"\\nMean Absolute Error (MAE) and Mean Absolute Percentage Error (MAPE) for each time series:\")\n",
    "for i in range(len(mae_per_series)):\n",
    "#     print(f\"  - Series {i+1} ({cols_for_training[i]}): MAE = {mae_per_series[i]:.4f}, MAPE = {mape_per_series[i]:.2f}%\")\n",
    "#     print(f\"  - Series {i+1} ({cols_for_training[i]}): MAE = {mae_per_series[i]:.4f}\")\n",
    "    print(f\"  - Series {i+1} ({cols_for_training[i]}): RMSE = {rmse_per_series[i]:.4f} :MAE = {mae_per_series[i]:.9f}, MAPE = {mape_per_series[i]:.2f}%\")\n",
    "    row_series.append([cols_for_training[i],rmse_per_series[i],mae_per_series[i],mape_per_series[i]])"
   ]
  },
  {
   "cell_type": "markdown",
   "id": "industrial-humanity",
   "metadata": {},
   "source": [
    "# Plots"
   ]
  },
  {
   "cell_type": "code",
   "execution_count": null,
   "id": "acceptable-thriller",
   "metadata": {},
   "outputs": [],
   "source": [
    "# Plot the predictions vs. actual values for the first time series\n",
    "\n",
    "for i in range(len(cols_for_training)):\n",
    "    plt.figure(figsize=(15, 6))\n",
    "    plt.title(f\"Figure {i} {cols_for_training[i]}: Actual vs. Predicted (Test Set)\")\n",
    "    \n",
    "    if cols_for_training[i] == 'diff_revs_number':\n",
    "        plt.plot(y_test_reshaped[:, 0, i].cumsum(), label='Actual', color='blue')\n",
    "        plt.plot(y_pred_reshaped[:, 0, i].cumsum(), label='Predicted', color='red', linestyle='--')\n",
    "\n",
    "    else:\n",
    "        plt.plot(y_test_reshaped[:, 0, i], label='Actual', color='blue')\n",
    "        plt.plot(y_pred_reshaped[:, 0, i], label='Predicted', color='red', linestyle='--')\n",
    "        \n",
    "#     plt.plot(y_test_reshaped[:, 0, i], label='Actual', color='blue')\n",
    "#     plt.plot(y_pred_reshaped[:, 0, i], label='Predicted', color='red', linestyle='--')\n",
    "    plt.legend()\n",
    "    plt.grid(True)\n",
    "    plt.xlabel(\"Test Sample\")\n",
    "    plt.ylabel(f\"{cols_for_training[i]} Value\")\n",
    "    plt.show()"
   ]
  },
  {
   "cell_type": "code",
   "execution_count": null,
   "id": "caroline-association",
   "metadata": {},
   "outputs": [],
   "source": []
  }
 ],
 "metadata": {
  "kernelspec": {
   "display_name": "Python [conda env:conda-mlssa]",
   "language": "python",
   "name": "conda-env-conda-mlssa-py"
  },
  "language_info": {
   "codemirror_mode": {
    "name": "ipython",
    "version": 3
   },
   "file_extension": ".py",
   "mimetype": "text/x-python",
   "name": "python",
   "nbconvert_exporter": "python",
   "pygments_lexer": "ipython3",
   "version": "3.9.23"
  }
 },
 "nbformat": 4,
 "nbformat_minor": 5
}
